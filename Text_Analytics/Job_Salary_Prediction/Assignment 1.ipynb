{
 "cells": [
  {
   "cell_type": "markdown",
   "metadata": {},
   "source": [
    "# Text Analytics - Assignment 1\n",
    "\n",
    "**Group Members** - \n",
    "1. Sagar Chadha\n",
    "2. Ryan Hoff\n",
    "3. Cory Nguyen\n",
    "4. Akhilesh Reddy\n",
    "5. Lu-Hao Kuo"
   ]
  },
  {
   "cell_type": "code",
   "execution_count": 1,
   "metadata": {},
   "outputs": [],
   "source": [
    "# import libraries\n",
    "import pandas as pd\n",
    "import numpy as np\n",
    "import nltk\n",
    "from nltk.tokenize import word_tokenize\n",
    "import re\n",
    "import matplotlib.pyplot as plt\n",
    "%matplotlib inline\n",
    "\n",
    "import math\n",
    "\n",
    "import warnings\n",
    "warnings.filterwarnings('ignore')"
   ]
  },
  {
   "cell_type": "code",
   "execution_count": 2,
   "metadata": {},
   "outputs": [
    {
     "data": {
      "text/html": [
       "<div>\n",
       "<style scoped>\n",
       "    .dataframe tbody tr th:only-of-type {\n",
       "        vertical-align: middle;\n",
       "    }\n",
       "\n",
       "    .dataframe tbody tr th {\n",
       "        vertical-align: top;\n",
       "    }\n",
       "\n",
       "    .dataframe thead th {\n",
       "        text-align: right;\n",
       "    }\n",
       "</style>\n",
       "<table border=\"1\" class=\"dataframe\">\n",
       "  <thead>\n",
       "    <tr style=\"text-align: right;\">\n",
       "      <th></th>\n",
       "      <th>Id</th>\n",
       "      <th>Title</th>\n",
       "      <th>FullDescription</th>\n",
       "      <th>LocationRaw</th>\n",
       "      <th>LocationNormalized</th>\n",
       "      <th>ContractType</th>\n",
       "      <th>ContractTime</th>\n",
       "      <th>Company</th>\n",
       "      <th>Category</th>\n",
       "      <th>SalaryRaw</th>\n",
       "      <th>SalaryNormalized</th>\n",
       "      <th>SourceName</th>\n",
       "    </tr>\n",
       "  </thead>\n",
       "  <tbody>\n",
       "    <tr>\n",
       "      <th>0</th>\n",
       "      <td>12612628</td>\n",
       "      <td>Engineering Systems Analyst</td>\n",
       "      <td>Engineering Systems Analyst Dorking Surrey Sal...</td>\n",
       "      <td>Dorking, Surrey, Surrey</td>\n",
       "      <td>Dorking</td>\n",
       "      <td>NaN</td>\n",
       "      <td>permanent</td>\n",
       "      <td>Gregory Martin International</td>\n",
       "      <td>Engineering Jobs</td>\n",
       "      <td>20000 - 30000/annum 20-30K</td>\n",
       "      <td>25000</td>\n",
       "      <td>cv-library.co.uk</td>\n",
       "    </tr>\n",
       "    <tr>\n",
       "      <th>1</th>\n",
       "      <td>12612830</td>\n",
       "      <td>Stress Engineer Glasgow</td>\n",
       "      <td>Stress Engineer Glasgow Salary **** to **** We...</td>\n",
       "      <td>Glasgow, Scotland, Scotland</td>\n",
       "      <td>Glasgow</td>\n",
       "      <td>NaN</td>\n",
       "      <td>permanent</td>\n",
       "      <td>Gregory Martin International</td>\n",
       "      <td>Engineering Jobs</td>\n",
       "      <td>25000 - 35000/annum 25-35K</td>\n",
       "      <td>30000</td>\n",
       "      <td>cv-library.co.uk</td>\n",
       "    </tr>\n",
       "  </tbody>\n",
       "</table>\n",
       "</div>"
      ],
      "text/plain": [
       "         Id                        Title  \\\n",
       "0  12612628  Engineering Systems Analyst   \n",
       "1  12612830      Stress Engineer Glasgow   \n",
       "\n",
       "                                     FullDescription  \\\n",
       "0  Engineering Systems Analyst Dorking Surrey Sal...   \n",
       "1  Stress Engineer Glasgow Salary **** to **** We...   \n",
       "\n",
       "                   LocationRaw LocationNormalized ContractType ContractTime  \\\n",
       "0      Dorking, Surrey, Surrey            Dorking          NaN    permanent   \n",
       "1  Glasgow, Scotland, Scotland            Glasgow          NaN    permanent   \n",
       "\n",
       "                        Company          Category                   SalaryRaw  \\\n",
       "0  Gregory Martin International  Engineering Jobs  20000 - 30000/annum 20-30K   \n",
       "1  Gregory Martin International  Engineering Jobs  25000 - 35000/annum 25-35K   \n",
       "\n",
       "   SalaryNormalized        SourceName  \n",
       "0             25000  cv-library.co.uk  \n",
       "1             30000  cv-library.co.uk  "
      ]
     },
     "execution_count": 2,
     "metadata": {},
     "output_type": "execute_result"
    }
   ],
   "source": [
    "# Read in the train_rev1 datafile downloaded from kaggle\n",
    "df = pd.read_csv('Train_rev1.csv')\n",
    "df.head(2)"
   ]
  },
  {
   "cell_type": "code",
   "execution_count": 3,
   "metadata": {},
   "outputs": [
    {
     "data": {
      "text/plain": [
       "[35222, 149213, 222149, 210308, 200218]"
      ]
     },
     "execution_count": 3,
     "metadata": {},
     "output_type": "execute_result"
    }
   ],
   "source": [
    "# randomly sample 2500 rows from the data\n",
    "import random\n",
    "random.seed(1)\n",
    "indices = df.index.values.tolist()\n",
    "\n",
    "random_2500 = random.sample(indices, 2500)\n",
    "\n",
    "random_2500[:5]"
   ]
  },
  {
   "cell_type": "code",
   "execution_count": 4,
   "metadata": {},
   "outputs": [
    {
     "data": {
      "text/html": [
       "<div>\n",
       "<style scoped>\n",
       "    .dataframe tbody tr th:only-of-type {\n",
       "        vertical-align: middle;\n",
       "    }\n",
       "\n",
       "    .dataframe tbody tr th {\n",
       "        vertical-align: top;\n",
       "    }\n",
       "\n",
       "    .dataframe thead th {\n",
       "        text-align: right;\n",
       "    }\n",
       "</style>\n",
       "<table border=\"1\" class=\"dataframe\">\n",
       "  <thead>\n",
       "    <tr style=\"text-align: right;\">\n",
       "      <th></th>\n",
       "      <th>Id</th>\n",
       "      <th>Title</th>\n",
       "      <th>FullDescription</th>\n",
       "      <th>LocationRaw</th>\n",
       "      <th>LocationNormalized</th>\n",
       "      <th>ContractType</th>\n",
       "      <th>ContractTime</th>\n",
       "      <th>Company</th>\n",
       "      <th>Category</th>\n",
       "      <th>SalaryRaw</th>\n",
       "      <th>SalaryNormalized</th>\n",
       "      <th>SourceName</th>\n",
       "    </tr>\n",
       "  </thead>\n",
       "  <tbody>\n",
       "    <tr>\n",
       "      <th>0</th>\n",
       "      <td>68234454</td>\n",
       "      <td>Bar &amp; Leisure Supervisor</td>\n",
       "      <td>Genting Casinos UK is looking for an experienc...</td>\n",
       "      <td>Leicester Leicestershire East Midlands</td>\n",
       "      <td>Leicester</td>\n",
       "      <td>NaN</td>\n",
       "      <td>NaN</td>\n",
       "      <td>Genting UK</td>\n",
       "      <td>Hospitality &amp; Catering Jobs</td>\n",
       "      <td>Up to 17,000 per annum</td>\n",
       "      <td>17000</td>\n",
       "      <td>caterer.com</td>\n",
       "    </tr>\n",
       "    <tr>\n",
       "      <th>1</th>\n",
       "      <td>70762305</td>\n",
       "      <td>Principal Development Engineer</td>\n",
       "      <td>Principal Development Engineer  RF Microwave /...</td>\n",
       "      <td>Scotland</td>\n",
       "      <td>Scotland</td>\n",
       "      <td>NaN</td>\n",
       "      <td>permanent</td>\n",
       "      <td>ATA Recruitment</td>\n",
       "      <td>Engineering Jobs</td>\n",
       "      <td>38000 - 45000/annum + 38k - 45k (DOE) + Pensio...</td>\n",
       "      <td>41500</td>\n",
       "      <td>cv-library.co.uk</td>\n",
       "    </tr>\n",
       "  </tbody>\n",
       "</table>\n",
       "</div>"
      ],
      "text/plain": [
       "         Id                           Title  \\\n",
       "0  68234454        Bar & Leisure Supervisor   \n",
       "1  70762305  Principal Development Engineer   \n",
       "\n",
       "                                     FullDescription  \\\n",
       "0  Genting Casinos UK is looking for an experienc...   \n",
       "1  Principal Development Engineer  RF Microwave /...   \n",
       "\n",
       "                              LocationRaw LocationNormalized ContractType  \\\n",
       "0  Leicester Leicestershire East Midlands          Leicester          NaN   \n",
       "1                                Scotland           Scotland          NaN   \n",
       "\n",
       "  ContractTime          Company                     Category  \\\n",
       "0          NaN       Genting UK  Hospitality & Catering Jobs   \n",
       "1    permanent  ATA Recruitment             Engineering Jobs   \n",
       "\n",
       "                                           SalaryRaw  SalaryNormalized  \\\n",
       "0                             Up to 17,000 per annum             17000   \n",
       "1  38000 - 45000/annum + 38k - 45k (DOE) + Pensio...             41500   \n",
       "\n",
       "         SourceName  \n",
       "0       caterer.com  \n",
       "1  cv-library.co.uk  "
      ]
     },
     "execution_count": 4,
     "metadata": {},
     "output_type": "execute_result"
    }
   ],
   "source": [
    "# subset the imported data on the selected 2500 indices\n",
    "train = df.loc[random_2500, :]\n",
    "train = train.reset_index(drop = True)\n",
    "train.head(2)"
   ]
  },
  {
   "cell_type": "code",
   "execution_count": 5,
   "metadata": {},
   "outputs": [],
   "source": [
    "# some problems with the way FullDescription has been encoded\n",
    "def convert_utf8(s):\n",
    "    return str(s)\n",
    "\n",
    "train['FullDescription'] = train['FullDescription'].map(convert_utf8)"
   ]
  },
  {
   "cell_type": "markdown",
   "metadata": {},
   "source": [
    "Approach - \n",
    "1. Lets first make a corpus of all the descriptions provided to us.\n",
    "2. From this corpus, we will pick up anomalies in the descriptions - urls, numbers, etc. that are of no use to us in terms of predictions.\n",
    "3. We will make lists of these anomalous strings.\n",
    "4. Going back to our dataset, we will clean the descriptions by removing these anomalous strings from the job descriptions"
   ]
  },
  {
   "cell_type": "code",
   "execution_count": 6,
   "metadata": {},
   "outputs": [],
   "source": [
    "# make a corpus of all the words in the job description\n",
    "corpus = \". \".join(train['FullDescription'].tolist())\n",
    "\n",
    "# tokenize the corpus to get individual words\n",
    "tokens = word_tokenize(corpus)"
   ]
  },
  {
   "cell_type": "markdown",
   "metadata": {},
   "source": [
    "### Cleaning up the corpus"
   ]
  },
  {
   "cell_type": "markdown",
   "metadata": {},
   "source": [
    "We notice the following  a lot of urls in the text corpus. We should remove these before proceeding.\n",
    "Urls would usually have 'co.uk' in them or '.com' in them."
   ]
  },
  {
   "cell_type": "code",
   "execution_count": 7,
   "metadata": {},
   "outputs": [],
   "source": [
    "# find all urls in the data\n",
    "weblinks = [w for w in tokens if \".co.uk\" in w]\n",
    "weblinks = weblinks + [w for w in tokens if \".com\" in w] + [w for w in tokens if \"www.\" in w]\n",
    "weblinks = list(set(weblinks))\n",
    "\n",
    "# We also notice a lot of words with '*' characters in them. These are sometimes salary figures that have been hidden to \n",
    "# keep the prediction problem meaningful. Other times its just useless strings.\n",
    "def find_numbers(s):\n",
    "    found = []\n",
    "    if len(re.findall('.*[0-9]+.*', s)) > 0:\n",
    "        found.append(re.findall('.*[0-9]+.*', s)[0])\n",
    "        return found[0]\n",
    "    else:\n",
    "        return np.nan\n",
    "    \n",
    "numbers = pd.Series(tokens).map(find_numbers)\n",
    "numbers = numbers[~numbers.isnull()]\n",
    "\n",
    "# there are strings with a lot of '*' in them. We need to remove these.\n",
    "def find_stars(s):\n",
    "    found = []\n",
    "    if len(re.findall('.*[\\*]+.*', s)) > 0:\n",
    "        found.append(re.findall('.*[\\*]+.*', s)[0])\n",
    "        return found[0]\n",
    "    else:\n",
    "        return 0\n",
    "\n",
    "star_words = pd.Series(tokens).map(find_stars)\n",
    "star_words = star_words[star_words != 0].tolist()"
   ]
  },
  {
   "cell_type": "markdown",
   "metadata": {},
   "source": [
    "We have used the corpus to find out star words, urls, numbers, etc. in the text. We need to remove these from the fulldescription column.\n",
    "1. Remove the urls first"
   ]
  },
  {
   "cell_type": "code",
   "execution_count": 8,
   "metadata": {},
   "outputs": [],
   "source": [
    "def remove_urls(s):\n",
    "    global weblinks\n",
    "    for i in weblinks:\n",
    "        s = s.replace(i, \"\")\n",
    "    return s\n",
    "\n",
    "train['Clean_Full_Descriptions'] = train['FullDescription'].map(remove_urls)"
   ]
  },
  {
   "cell_type": "markdown",
   "metadata": {},
   "source": [
    "2. Remove the star_words"
   ]
  },
  {
   "cell_type": "code",
   "execution_count": 9,
   "metadata": {},
   "outputs": [],
   "source": [
    "def remove_star_words(s):\n",
    "    global star_words\n",
    "    for i in star_words:\n",
    "        s = s.replace(i, \"\")\n",
    "    return s\n",
    "\n",
    "train['Clean_Full_Descriptions'] = train['Clean_Full_Descriptions'].map(remove_star_words)"
   ]
  },
  {
   "cell_type": "markdown",
   "metadata": {},
   "source": [
    "3. Remove numbers"
   ]
  },
  {
   "cell_type": "code",
   "execution_count": 10,
   "metadata": {},
   "outputs": [],
   "source": [
    "def remove_nums(s):\n",
    "    global numbers\n",
    "    for i in numbers:\n",
    "        s = s.replace(i, \"\")\n",
    "    return s\n",
    "\n",
    "train['Clean_Full_Descriptions'] = train['Clean_Full_Descriptions'].map(remove_nums)"
   ]
  },
  {
   "cell_type": "markdown",
   "metadata": {},
   "source": [
    "4. Remove the punctuations"
   ]
  },
  {
   "cell_type": "code",
   "execution_count": 11,
   "metadata": {},
   "outputs": [],
   "source": [
    "from string import punctuation\n",
    "\n",
    "def remove_punctuation(s):\n",
    "    global punctuation\n",
    "    for p in punctuation:\n",
    "        s = s.replace(p, '')\n",
    "    return s\n",
    "\n",
    "train['Clean_Full_Descriptions'] = train['Clean_Full_Descriptions'].map(remove_punctuation)"
   ]
  },
  {
   "cell_type": "markdown",
   "metadata": {},
   "source": [
    "5. Convert to lower case"
   ]
  },
  {
   "cell_type": "code",
   "execution_count": 12,
   "metadata": {},
   "outputs": [],
   "source": [
    "train['Clean_Full_Descriptions'] = train['Clean_Full_Descriptions'].map(lambda x: x.lower())"
   ]
  },
  {
   "cell_type": "markdown",
   "metadata": {},
   "source": [
    "The `Clean_Full_Descriptions` has the full descriptions without punctuations, numbers, star words or urls!"
   ]
  },
  {
   "cell_type": "markdown",
   "metadata": {},
   "source": [
    "# Part A\n",
    "## Question A1 - \n",
    "###  Part 1 - What are the top 5 parts of speech in the job description? How frequently do they appear? "
   ]
  },
  {
   "cell_type": "markdown",
   "metadata": {},
   "source": [
    "### Answer\n",
    "We see that the most frequent parts of speech are -\n",
    "1. Noun (NN) - 156589\n",
    "2. Adjectives(JJ) - 70047\n",
    "3. Preposition (IN) - 65702\n",
    "4. Plural nouns(NNS) - 51286\n",
    "5. Determiner (DT) - 50691"
   ]
  },
  {
   "cell_type": "markdown",
   "metadata": {},
   "source": [
    "Approach - \n",
    "1. Tokenize each description under the clean_full_description column.\n",
    "2. For each description get the parts of speech tagging for each string in the full description"
   ]
  },
  {
   "cell_type": "code",
   "execution_count": 13,
   "metadata": {},
   "outputs": [
    {
     "data": {
      "text/plain": [
       "NN     156627\n",
       "JJ      70054\n",
       "IN      65701\n",
       "NNS     51287\n",
       "DT      50691\n",
       "dtype: int64"
      ]
     },
     "execution_count": 13,
     "metadata": {},
     "output_type": "execute_result"
    }
   ],
   "source": [
    "# define a function for parts of speech tagging\n",
    "def pos_tagger(s):\n",
    "    \"\"\"For a given text description, tokenize the words in it, tag parts of speech and return just the tag\"\"\"\n",
    "    answer = []\n",
    "    text = word_tokenize(s)\n",
    "    answer.append(nltk.pos_tag(text))\n",
    "    answer_pos = [w for a in answer for (v,w) in a]\n",
    "    return answer_pos\n",
    "\n",
    "# map parts of speech to each description\n",
    "pos = train['Clean_Full_Descriptions'].map(pos_tagger)\n",
    "\n",
    "# get a list of all parts of speech found\n",
    "all_pos = []\n",
    "\n",
    "for a in pos:\n",
    "    for b in a:\n",
    "        all_pos.append(b)\n",
    "\n",
    "all_pos = pd.Series(all_pos)\n",
    "all_pos.value_counts().head()"
   ]
  },
  {
   "cell_type": "markdown",
   "metadata": {},
   "source": [
    "### Part 2 - How does the frequency change if we exclude stopwords?"
   ]
  },
  {
   "cell_type": "markdown",
   "metadata": {},
   "source": [
    "### Answer\n",
    "We see that the most frequent parts of speech are -\n",
    "1. Noun (NN) - 151635\n",
    "2. Adjectives(JJ) - 72284\n",
    "3. Noun plural (NNS) - 50497\n",
    "4. Verb/Gerund(VBG) - 25118\n",
    "5. Verb/Present Participle (VBP) - 17218"
   ]
  },
  {
   "cell_type": "markdown",
   "metadata": {},
   "source": [
    "Approach -\n",
    "1. Remove stopwords from each of the descriptions.\n",
    "2. apply the pos_tagger again."
   ]
  },
  {
   "cell_type": "code",
   "execution_count": 14,
   "metadata": {},
   "outputs": [
    {
     "data": {
      "text/plain": [
       "NN     151689\n",
       "JJ      72293\n",
       "NNS     50497\n",
       "VBG     25123\n",
       "VBP     17219\n",
       "dtype: int64"
      ]
     },
     "execution_count": 14,
     "metadata": {},
     "output_type": "execute_result"
    }
   ],
   "source": [
    "# store english stopwords in a list\n",
    "from nltk.corpus import stopwords\n",
    "en_stopwords = stopwords.words('english')\n",
    "\n",
    "# define a function to remove stopwords from descriptions\n",
    "def remove_stopwords(s):\n",
    "    global en_stopwords\n",
    "    s = word_tokenize(s)\n",
    "    s = \" \".join([w for w in s if w not in en_stopwords])\n",
    "    return s\n",
    "\n",
    "# Create a new column of descriptions with no stopwords\n",
    "train['Clean_Full_Descriptions_no_stop'] = train['Clean_Full_Descriptions'].map(remove_stopwords)\n",
    "\n",
    "# get parts of speech\n",
    "pos = train['Clean_Full_Descriptions_no_stop'].map(pos_tagger)\n",
    "\n",
    "# get a list of all parts of speech found\n",
    "all_pos = []\n",
    "\n",
    "for a in pos:\n",
    "    for b in a:\n",
    "        all_pos.append(b)\n",
    "\n",
    "all_pos = pd.Series(all_pos)\n",
    "all_pos.value_counts().head()"
   ]
  },
  {
   "cell_type": "markdown",
   "metadata": {},
   "source": [
    "## Question A2 - \n",
    "### Does this data support Zipf's law? Plot the 100 most common words in the data against the theoretical prediction of the law."
   ]
  },
  {
   "cell_type": "markdown",
   "metadata": {},
   "source": [
    "Approach - \n",
    "1. Create a corpus of the cleaned descriptions.\n",
    "2. Tokenize the words in the corpus.\n",
    "3. Take a count of these words."
   ]
  },
  {
   "cell_type": "markdown",
   "metadata": {},
   "source": [
    "### Answer -\n",
    "Yes the data supports Zipf's law based on the top 100 most frequently occuring words. The theta value obtained from fitting the OLS on the log(frequency) to predict log(rank) is -1.03 which is close to -1."
   ]
  },
  {
   "cell_type": "code",
   "execution_count": 15,
   "metadata": {},
   "outputs": [],
   "source": [
    "# prepare corpus from the descriptions that still have stopwords\n",
    "corpus = \" \".join(train['Clean_Full_Descriptions'].tolist())\n",
    "\n",
    "#tokenize words\n",
    "tokenized_corpus = nltk.word_tokenize(corpus)\n",
    "fd = nltk.FreqDist(tokenized_corpus)\n",
    "\n",
    "# get the top words\n",
    "top_words = []\n",
    "for key, value in fd.items():\n",
    "    top_words.append((key, value))\n",
    "\n",
    "# sort the list by the top frequencies\n",
    "top_words = sorted(top_words, key = lambda x:x[1], reverse = True)\n",
    "\n",
    "# keep top 100 words only\n",
    "top_words = top_words[:100]\n",
    "\n",
    "# Keep the frequencies only from the top word series\n",
    "top_word_series = pd.Series([w for (v,w) in top_words])\n",
    "top_word_series[:5]\n",
    "\n",
    "# get actual ranks of these words - wherever we see same frequencies, we give same rank\n",
    "word_ranks = top_word_series.rank(method = 'min', ascending = False)"
   ]
  },
  {
   "cell_type": "code",
   "execution_count": 16,
   "metadata": {},
   "outputs": [
    {
     "name": "stdout",
     "output_type": "stream",
     "text": [
      "The value of theta obtained is: [-1.03049236]\n"
     ]
    },
    {
     "data": {
      "text/plain": [
       "<matplotlib.legend.Legend at 0x267c5dd2f60>"
      ]
     },
     "execution_count": 16,
     "metadata": {},
     "output_type": "execute_result"
    },
    {
     "data": {
      "image/png": "[encoded data removed]",
      "text/plain": [
       "<Figure size 432x288 with 1 Axes>"
      ]
     },
     "metadata": {
      "needs_background": "light"
     },
     "output_type": "display_data"
    }
   ],
   "source": [
    "# Run a regression on this\n",
    "denominator = max(word_ranks)*min(top_word_series)\n",
    "\n",
    "Y = np.array(np.log(word_ranks))\n",
    "X = np.array(np.log(top_word_series/denominator))\n",
    "\n",
    "from sklearn import linear_model\n",
    "reg_model = linear_model.LinearRegression(fit_intercept = False)\n",
    "\n",
    "reg_model.fit(Y.reshape(-1,1), X)\n",
    "print(\"The value of theta obtained is:\",reg_model.coef_)\n",
    "\n",
    "# make a plot of actual vs theory\n",
    "plt.scatter(Y, X, label = \"Actual Rank vs Frequency\")\n",
    "plt.title('Log(Rank) vs Log(Frequency/nx(n))')\n",
    "plt.xlabel('Log Rank')\n",
    "plt.ylabel('Log(Frequency/nx(n))')\n",
    "\n",
    "plt.plot(reg_model.predict(X.reshape(-1,1)), X, color = 'red', label = \"Zipf's law\")\n",
    "plt.legend()"
   ]
  },
  {
   "cell_type": "markdown",
   "metadata": {},
   "source": [
    "## Question A3 - \n",
    "### If we remove stopwords and lemmatize the data, what are the 10 most common words? What are their frequencies?"
   ]
  },
  {
   "cell_type": "markdown",
   "metadata": {},
   "source": [
    "### Answer - \n",
    "The top 10 words are - \n",
    "1. Experience - 4336\n",
    "2. Role - 3236\n",
    "3. team - 3018\n",
    "4. Work - 3015\n",
    "5. Client - 2859\n",
    "6. Business - 2857\n",
    "7. Skill - 2495\n",
    "8. Service - 2401\n",
    "9. Working - 2271\n",
    "10. Sale - 2234"
   ]
  },
  {
   "cell_type": "code",
   "execution_count": 17,
   "metadata": {},
   "outputs": [
    {
     "data": {
      "text/plain": [
       "[('experience', 4336),\n",
       " ('role', 3236),\n",
       " ('team', 3018),\n",
       " ('work', 3015),\n",
       " ('client', 2859),\n",
       " ('business', 2857),\n",
       " ('skill', 2495),\n",
       " ('service', 2401),\n",
       " ('working', 2271),\n",
       " ('sale', 2234)]"
      ]
     },
     "execution_count": 17,
     "metadata": {},
     "output_type": "execute_result"
    }
   ],
   "source": [
    "# import the necessary functions from the nltk library\n",
    "from nltk.stem.wordnet import WordNetLemmatizer\n",
    "lmtzr = WordNetLemmatizer()\n",
    "\n",
    "# prepare corpus from the descriptions that still have stopwords\n",
    "corpus = \" \".join(train['Clean_Full_Descriptions_no_stop'].tolist())\n",
    "\n",
    "#tokenize words\n",
    "tokenized_corpus = nltk.word_tokenize(corpus)\n",
    "\n",
    "# lemmatize\n",
    "lemmatized_tokens = [lmtzr.lemmatize(token) for token in tokenized_corpus]\n",
    "\n",
    "# word frequencies for the lemmatized tokens\n",
    "fd = nltk.FreqDist(lemmatized_tokens)\n",
    "\n",
    "# get the top words\n",
    "top_words = []\n",
    "for key, value in fd.items():\n",
    "    top_words.append((key, value))\n",
    "\n",
    "# sort the list by the top frequencies\n",
    "top_words = sorted(top_words, key = lambda x:x[1], reverse = True)\n",
    "\n",
    "# keep top 100 words only\n",
    "top_words = top_words[:10]\n",
    "\n",
    "top_words"
   ]
  },
  {
   "cell_type": "markdown",
   "metadata": {},
   "source": [
    "# Part B\n",
    "## Question B1\n",
    "### Predict high (>75th percentile)/low (< 75th percentile) salary from just the numeric variables in the data."
   ]
  },
  {
   "cell_type": "markdown",
   "metadata": {},
   "source": [
    "`SalaryNormalized` has the salary values for each job description"
   ]
  },
  {
   "cell_type": "code",
   "execution_count": 18,
   "metadata": {},
   "outputs": [],
   "source": [
    "# get the 75th percentile value of salary!\n",
    "sal_perc_75 = np.percentile(train['SalaryNormalized'], 75)\n",
    "\n",
    "# make a new target variable that captures whether salary is high (1) or low (0)\n",
    "train['Salary_Target'] = np.where(train['SalaryNormalized'] >= sal_perc_75, 1, 0)"
   ]
  },
  {
   "cell_type": "markdown",
   "metadata": {},
   "source": [
    "Most values in our dataframe are of the 'Object' or 'String' data type. This means that we will have to convert these to dummy variables to proceed!\n",
    "\n",
    "Let's first check for missing values in the data!"
   ]
  },
  {
   "cell_type": "code",
   "execution_count": 19,
   "metadata": {},
   "outputs": [
    {
     "data": {
      "text/plain": [
       "ContractType    1851\n",
       "ContractTime     653\n",
       "Company          328\n",
       "dtype: int64"
      ]
     },
     "execution_count": 19,
     "metadata": {},
     "output_type": "execute_result"
    }
   ],
   "source": [
    "train.isnull().sum()[train.isnull().sum()>0]"
   ]
  },
  {
   "cell_type": "markdown",
   "metadata": {},
   "source": [
    "There are missing values in the variables as shown above! These are all 'character' variables so when we create dummies, there will be a new column for the 'NA' values."
   ]
  },
  {
   "cell_type": "markdown",
   "metadata": {},
   "source": [
    "#### Get a list of expensive cities in England"
   ]
  },
  {
   "cell_type": "code",
   "execution_count": 20,
   "metadata": {},
   "outputs": [],
   "source": [
    "exp_cities = ['London', 'Oxford', 'Brighton', 'Cambridge', 'Bristol', 'Portsmouth', 'Reading', 'Edinburgh', 'Leicester',\n",
    "             'York', 'Exeter']\n",
    "\n",
    "train['Exp_Location'] = np.where(train['LocationNormalized'].map(lambda x: x in exp_cities), 1, 0)"
   ]
  },
  {
   "cell_type": "markdown",
   "metadata": {},
   "source": [
    "### Naive Bayes using Numerical variables"
   ]
  },
  {
   "cell_type": "code",
   "execution_count": 21,
   "metadata": {},
   "outputs": [
    {
     "name": "stdout",
     "output_type": "stream",
     "text": [
      "Model Accuracy is: 0.78\n",
      "Area under the ROC curve: 0.589823330907166\n",
      "Confusion Matrix:\n",
      " [[363  18]\n",
      " [ 92  27]]\n"
     ]
    }
   ],
   "source": [
    "# Subset the columns required\n",
    "columns_required = ['ContractType', 'ContractTime', 'Company', 'Category', 'SourceName', 'Exp_Location', 'Salary_Target']\n",
    "\n",
    "train_b1 = train.loc[:, columns_required]\n",
    "\n",
    "# Convert the categorical variables to dummy variables\n",
    "train_b1 = pd.get_dummies(train_b1)\n",
    "\n",
    "# Lets separate the predictors from the target variable\n",
    "columns_selected = train_b1.columns.values.tolist()\n",
    "target_variable = ['Salary_Target']\n",
    "\n",
    "predictors = list(set(columns_selected) - set(target_variable))\n",
    "\n",
    "# setup the model\n",
    "from sklearn.naive_bayes import BernoulliNB\n",
    "\n",
    "X = np.array(train_b1.loc[:,predictors])\n",
    "y = np.array(train_b1.loc[:,target_variable[0]])\n",
    "\n",
    "# create test train splits \n",
    "from sklearn.model_selection import train_test_split\n",
    "X_train, X_test, y_train, y_test = train_test_split(X, y, test_size = 0.2, random_state = 2)\n",
    "\n",
    "model = BernoulliNB()\n",
    "\n",
    "# Fit the model and predict the output on the test data\n",
    "model.fit(X_train, y_train)\n",
    "\n",
    "# Predicted output\n",
    "predicted = model.predict(X_test)\n",
    "\n",
    "# Accuracy\n",
    "from sklearn import metrics\n",
    "\n",
    "print(\"Model Accuracy is:\", metrics.accuracy_score(y_test, predicted))\n",
    "print(\"Area under the ROC curve:\", metrics.roc_auc_score(y_test, predicted))\n",
    "print(\"Confusion Matrix:\\n\",metrics.confusion_matrix(y_test, predicted))"
   ]
  },
  {
   "cell_type": "markdown",
   "metadata": {},
   "source": [
    "### Answer -\n",
    "#### The prediction accuracy achieved is 78% using just the numerical variables!"
   ]
  },
  {
   "cell_type": "markdown",
   "metadata": {},
   "source": [
    "### Multinomial Naive Bayes using job descriptions"
   ]
  },
  {
   "cell_type": "code",
   "execution_count": 22,
   "metadata": {},
   "outputs": [
    {
     "name": "stdout",
     "output_type": "stream",
     "text": [
      "Model Accuracy: 0.826\n",
      "Area under the ROC curve: 0.7673636383687333\n",
      "Model Confusion Matrix:\n",
      " [[335  46]\n",
      " [ 41  78]]\n"
     ]
    }
   ],
   "source": [
    "# Lets lemmatize the job descriptions before we run the model\n",
    "def text_lemmatizer(s):\n",
    "    tokenized_corpus = nltk.word_tokenize(s)\n",
    "    \n",
    "    # lemmatize\n",
    "    s = \" \".join([lmtzr.lemmatize(token) for token in tokenized_corpus])\n",
    "    return s\n",
    "\n",
    "train['Clean_Full_Descriptions_no_stop_lemm'] = train['Clean_Full_Descriptions_no_stop'].map(text_lemmatizer)\n",
    "\n",
    "X = np.array(train.loc[:, 'Clean_Full_Descriptions_no_stop_lemm'])\n",
    "y = np.array(train.loc[:, 'Salary_Target'])\n",
    "\n",
    "# split into test and train data\n",
    "X_train, X_test, y_train, y_test = train_test_split(X, y, test_size = 0.2, random_state = 2)\n",
    "\n",
    "# Convert the arrays into a presence/absence matrix\n",
    "from sklearn.feature_extraction.text import CountVectorizer\n",
    "\n",
    "count_vectorizer = CountVectorizer()\n",
    "X_train_counts = count_vectorizer.fit_transform(X_train)\n",
    "X_test_counts = count_vectorizer.transform(X_test)\n",
    "\n",
    "from sklearn.naive_bayes import MultinomialNB\n",
    "nb_mult_model = MultinomialNB().fit(X_train_counts, y_train)\n",
    "predicted = nb_mult_model.predict(X_test_counts)\n",
    "\n",
    "print(\"Model Accuracy:\", metrics.accuracy_score(y_test, predicted))\n",
    "print(\"Area under the ROC curve:\", metrics.roc_auc_score(y_test, predicted))\n",
    "print(\"Model Confusion Matrix:\\n\", metrics.confusion_matrix(y_test, predicted))"
   ]
  },
  {
   "cell_type": "markdown",
   "metadata": {},
   "source": [
    "### Bernoulli Naive Bayes using Job Descriptions"
   ]
  },
  {
   "cell_type": "code",
   "execution_count": 23,
   "metadata": {},
   "outputs": [
    {
     "name": "stdout",
     "output_type": "stream",
     "text": [
      "Model Accuracy: 0.792\n",
      "Area under the ROC curve: 0.6208121043693068\n",
      "Model Confusion Matrix:\n",
      " [[361  20]\n",
      " [ 84  35]]\n"
     ]
    }
   ],
   "source": [
    "# Calculate the frequencies of words using the TfidfTransformer\n",
    "X_train_bern = np.where(X_train_counts.todense() > 0 , 1, 0)\n",
    "X_test_bern = np.where(X_test_counts.todense() > 0, 1, 0)\n",
    "\n",
    "# Fit the model\n",
    "from sklearn.naive_bayes import BernoulliNB\n",
    "nb_bern_model = BernoulliNB().fit(X_train_bern, y_train)\n",
    "predicted = nb_bern_model.predict(X_test_bern)\n",
    "\n",
    "# print the accuracies\n",
    "print(\"Model Accuracy:\", metrics.accuracy_score(y_test, predicted))\n",
    "print(\"Area under the ROC curve:\", metrics.roc_auc_score(y_test, predicted))\n",
    "print(\"Model Confusion Matrix:\\n\", metrics.confusion_matrix(y_test, predicted))"
   ]
  },
  {
   "cell_type": "markdown",
   "metadata": {},
   "source": [
    "### Words that indicate high/low salary"
   ]
  },
  {
   "cell_type": "code",
   "execution_count": 24,
   "metadata": {},
   "outputs": [],
   "source": [
    "# extract the column names for the columns in our training dataset.\n",
    "column_names = [x for (x,y) in sorted(count_vectorizer.vocabulary_.items(), key = lambda x:x[1])]\n",
    "\n",
    "# probability of high salary\n",
    "p_1 = np.mean(y_train)\n",
    "\n",
    "# probability of low salary\n",
    "p_0 = 1 - p_1\n",
    "\n",
    "# create an array of feature vectors\n",
    "feature_vectors = np.array(X_train_bern)\n",
    "\n",
    "# probability of word appearance\n",
    "word_probabilities = np.mean(feature_vectors, axis = 0)\n",
    "\n",
    "# probability of seeing these words for class= 1 and class = 0 respectively\n",
    "p_x_1 = np.mean(feature_vectors[y_train==1, :], axis = 0)\n",
    "p_x_0 = np.mean(feature_vectors[y_train==0, :], axis = 0)\n",
    "\n",
    "# words that are good indicators of high salary (class = 1)\n",
    "high_indicators = p_x_1 * (np.log2(p_x_1) - np.log2(word_probabilities) - np.log2(p_1))\n",
    "\n",
    "high_indicators_series = pd.Series(high_indicators, index = column_names)\n",
    "\n",
    "# words that are good indicators of low salary (class = 0)\n",
    "low_indicators = p_x_0 * (np.log2(p_x_0) - np.log2(word_probabilities) - np.log2(p_0))\n",
    "\n",
    "low_indicators_series = pd.Series(low_indicators, index = column_names)"
   ]
  },
  {
   "cell_type": "markdown",
   "metadata": {},
   "source": [
    "### Get words indicative of low salary\n",
    "The numbers against the terms show the mutual information of these words with the low salary output"
   ]
  },
  {
   "cell_type": "code",
   "execution_count": 25,
   "metadata": {},
   "outputs": [
    {
     "data": {
      "text/plain": [
       "Index(['experience', 'work', 'role', 'client', 'working', 'team', 'please',\n",
       "       'job', 'looking', 'skill'],\n",
       "      dtype='object')"
      ]
     },
     "execution_count": 25,
     "metadata": {},
     "output_type": "execute_result"
    }
   ],
   "source": [
    "low_indicators_series[[i for i in low_indicators_series.index if i not in en_stopwords]].sort_values(ascending = False)[:10].index"
   ]
  },
  {
   "cell_type": "markdown",
   "metadata": {},
   "source": [
    "### Get words indicative of high salary\n",
    "The numbers against the terms show the mutual information of these words with the low salary output"
   ]
  },
  {
   "cell_type": "code",
   "execution_count": 26,
   "metadata": {},
   "outputs": [
    {
     "data": {
      "text/plain": [
       "Index(['experience', 'role', 'team', 'business', 'opportunity', 'management',\n",
       "       'skill', 'client', 'work', 'project'],\n",
       "      dtype='object')"
      ]
     },
     "execution_count": 26,
     "metadata": {},
     "output_type": "execute_result"
    }
   ],
   "source": [
    "high_indicators_series[[i for i in high_indicators_series.index if i not in en_stopwords]].sort_values(ascending = False)[:10].index"
   ]
  },
  {
   "cell_type": "markdown",
   "metadata": {},
   "source": [
    "## Question B3 - \n",
    "### Train a hybrid model to predict high/low salary using both numeric and text data. \n",
    "Show the accuracy of the model"
   ]
  },
  {
   "cell_type": "markdown",
   "metadata": {},
   "source": [
    "### Answer - \n",
    "The accuracy of the model is 78.4%. Yes, given that just text descriptions give us 82.6% accuracy, we would have expected the hybrid model to outperform this but it didnt!\n",
    "\n",
    "We choose the text only model since it gives us the best accuracy out of sample!"
   ]
  },
  {
   "cell_type": "code",
   "execution_count": 27,
   "metadata": {},
   "outputs": [
    {
     "name": "stdout",
     "output_type": "stream",
     "text": [
      "Model Accuracy is: 0.784\n",
      "Area under the ROC curve: 0.6328988288228679\n",
      "Confusion Matrix:\n",
      " [[351  30]\n",
      " [ 78  41]]\n"
     ]
    }
   ],
   "source": [
    "# convert text data to dataframe\n",
    "X = np.array(train.loc[:, 'Clean_Full_Descriptions_no_stop_lemm'])\n",
    "\n",
    "count_vectorizer = CountVectorizer()\n",
    "X_counts = count_vectorizer.fit_transform(X)\n",
    "\n",
    "column_names = [x for (x,y) in sorted(count_vectorizer.vocabulary_.items(), key = lambda x:x[1])]\n",
    "X_counts_to_occurence = np.where(X_counts.todense() > 0, 1, 0)\n",
    "\n",
    "text_data = pd.DataFrame(X_counts_to_occurence, columns = column_names)\n",
    "\n",
    "# train_b1 has the numerical data we used earlier\n",
    "# Lets separate the predictors from the target variable\n",
    "columns_selected = train_b1.columns.values.tolist() + text_data.columns.values.tolist()\n",
    "\n",
    "target_variable = ['Salary_Target']\n",
    "\n",
    "predictors = list(set(columns_selected) - set(target_variable))\n",
    "\n",
    "full_data = pd.concat([train_b1, text_data], axis = 1)\n",
    "\n",
    "X = np.array(full_data.loc[:,predictors])\n",
    "y = np.array(full_data.loc[:,target_variable[0]])\n",
    "\n",
    "# create test train splits \n",
    "from sklearn.model_selection import train_test_split\n",
    "X_train, X_test, y_train, y_test = train_test_split(X, y, test_size = 0.2, random_state = 2)\n",
    "\n",
    "model = BernoulliNB()\n",
    "\n",
    "# Fit the model and predict the output on the test data\n",
    "model.fit(X_train, y_train)\n",
    "\n",
    "# Predicted output\n",
    "predicted = model.predict(X_test)\n",
    "\n",
    "# Accuracy\n",
    "from sklearn import metrics\n",
    "\n",
    "print(\"Model Accuracy is:\", metrics.accuracy_score(y_test, predicted))\n",
    "print(\"Area under the ROC curve:\", metrics.roc_auc_score(y_test, predicted))\n",
    "print(\"Confusion Matrix:\\n\",metrics.confusion_matrix(y_test, predicted))"
   ]
  }
 ],
 "metadata": {
  "kernelspec": {
   "display_name": "Python 3",
   "language": "python",
   "name": "python3"
  },
  "language_info": {
   "codemirror_mode": {
    "name": "ipython",
    "version": 3
   },
   "file_extension": ".py",
   "mimetype": "text/x-python",
   "name": "python",
   "nbconvert_exporter": "python",
   "pygments_lexer": "ipython3",
   "version": "3.6.7"
  }
 },
 "nbformat": 4,
 "nbformat_minor": 2
}
